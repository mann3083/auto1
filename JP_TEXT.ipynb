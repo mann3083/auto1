{
 "cells": [
  {
   "cell_type": "markdown",
   "id": "8dd71048-1e26-4580-bfdc-bb7df329a5e8",
   "metadata": {},
   "source": [
    "### Approach 1. Import Transformer Models"
   ]
  },
  {
   "cell_type": "code",
   "execution_count": 3,
   "id": "42cb6c4f-1bd2-4628-ba3c-4a71bfa5c869",
   "metadata": {},
   "outputs": [],
   "source": [
    "from transformers import BertTokenizer, BertForTokenClassification\n",
    "from transformers import pipeline"
   ]
  },
  {
   "cell_type": "code",
   "execution_count": 12,
   "id": "c6488164-6689-4951-b0ea-2a62cfc358d3",
   "metadata": {},
   "outputs": [
    {
     "name": "stderr",
     "output_type": "stream",
     "text": [
      "The tokenizer class you load from this checkpoint is not the same type as the class this function is called from. It may result in unexpected tokenization. \n",
      "The tokenizer class you load from this checkpoint is 'BertJapaneseTokenizer'. \n",
      "The class this function is called from is 'BertTokenizer'.\n",
      "Some weights of BertForTokenClassification were not initialized from the model checkpoint at cl-tohoku/bert-base-japanese and are newly initialized: ['classifier.bias', 'classifier.weight']\n",
      "You should probably TRAIN this model on a down-stream task to be able to use it for predictions and inference.\n",
      "Hardware accelerator e.g. GPU is available in the environment, but no `device` argument is passed to the `Pipeline` object. Model will be on CPU.\n"
     ]
    },
    {
     "name": "stdout",
     "output_type": "stream",
     "text": [
      "Entity: 東, Label: LABEL_0\n",
      "Entity: 京, Label: LABEL_0\n",
      "Entity: 都, Label: LABEL_0\n",
      "Entity: にあ, Label: LABEL_1\n",
      "Entity: ##る, Label: LABEL_0\n",
      "Entity: 株, Label: LABEL_0\n",
      "Entity: 式, Label: LABEL_1\n",
      "Entity: 会, Label: LABEL_0\n",
      "Entity: 社, Label: LABEL_0\n",
      "Entity: サンプル, Label: LABEL_0\n",
      "Entity: ##の, Label: LABEL_0\n",
      "Entity: 田, Label: LABEL_0\n",
      "Entity: 中, Label: LABEL_0\n",
      "Entity: 太, Label: LABEL_0\n",
      "Entity: 郎, Label: LABEL_0\n",
      "Entity: です, Label: LABEL_0\n",
      "Entity: 。, Label: LABEL_1\n"
     ]
    }
   ],
   "source": [
    "from transformers import BertTokenizer, BertForTokenClassification, pipeline\n",
    "\n",
    "# Load the pre-trained model and tokenizer\n",
    "model_name = \"cl-tohoku/bert-base-japanese\"\n",
    "tokenizer = BertTokenizer.from_pretrained(model_name)\n",
    "model = BertForTokenClassification.from_pretrained(model_name)\n",
    "\n",
    "# Create a NER pipeline\n",
    "nlp = pipeline(\"ner\", model=model, tokenizer=tokenizer)\n",
    "\n",
    "# Example text\n",
    "text = \"東京都にある株式会社サンプルの田中太郎です。\"\n",
    "ner_results = nlp(text)\n",
    "\n",
    "# Print the results\n",
    "for entity in ner_results:\n",
    "    print(f\"Entity: {entity['word']}, Label: {entity['entity']}\")\n"
   ]
  },
  {
   "cell_type": "code",
   "execution_count": null,
   "id": "f4b7f860-aefc-4870-8e68-c0d91c5a54f6",
   "metadata": {},
   "outputs": [],
   "source": []
  },
  {
   "cell_type": "markdown",
   "id": "b5476963-d512-44bf-a319-21ef0df4af68",
   "metadata": {},
   "source": [
    "### Approach 2. LLMs"
   ]
  },
  {
   "cell_type": "code",
   "execution_count": 1,
   "id": "8a0fc71c-dde9-4c80-858f-e769c1c6c0a6",
   "metadata": {},
   "outputs": [],
   "source": [
    "from dotenv import load_dotenv\n",
    "import os"
   ]
  },
  {
   "cell_type": "code",
   "execution_count": null,
   "id": "e1adb802-9dbc-44f1-8f85-7835bd1a9526",
   "metadata": {},
   "outputs": [],
   "source": []
  },
  {
   "cell_type": "code",
   "execution_count": 2,
   "id": "b21697aa-86b8-4312-b35c-b457c5c0e00f",
   "metadata": {},
   "outputs": [],
   "source": [
    "\n",
    "japText = \"「私の名前は小林直樹です。」\""
   ]
  },
  {
   "cell_type": "code",
   "execution_count": 3,
   "id": "b892a21b-4d51-4b26-a48f-ee0a30841de3",
   "metadata": {},
   "outputs": [],
   "source": [
    "import openai\n",
    "import os\n",
    "from dotenv import load_dotenv\n",
    "from openai import OpenAI\n",
    "from langchain_openai import ChatOpenAI\n",
    "from langchain.prompts import PromptTemplate, ChatPromptTemplate\n",
    "# Load environment variables from a .env file\n",
    "load_dotenv()\n",
    "\n",
    "# Set up OpenAI API key\n",
    "#client = OpenAI(api_key=os.getenv('O_API_KEY'))\n",
    "api_key=os.getenv('O_API_KEY')\n",
    "\n"
   ]
  },
  {
   "cell_type": "code",
   "execution_count": 4,
   "id": "59016d50-8cfa-4d70-88d7-35bbc6388db1",
   "metadata": {},
   "outputs": [],
   "source": [
    "japListOfPII = ['「私の名前は田中太郎です。」',\n",
    " '「名前は山田花子です。」',\n",
    " '「私は鈴木健太です。」',\n",
    " '「名前は佐藤みゆきです。」',\n",
    " '「私の名前は小林直樹です。」',\n",
    " '「私は伊藤美香です。」',\n",
    " '「名前は高田健太郎です。」',\n",
    " '「私の名前は中村かおりです。」',\n",
    " '「名前は大野隆夫です。」',\n",
    " '「私は田辺さちこです。」',\n",
    " '「生年月日は1990年3月15日です。」',\n",
    " '「誕生日は1985年10月5日です。」',\n",
    " '「生年月日は1978年6月20日です。」',\n",
    " '「誕生日は1995年2月8日です。」',\n",
    " '「生年月日は1983年9月12日です。」',\n",
    " '「誕生日は2000年7月25日です。」',\n",
    " '「生年月日は1970年1月1日です。」',\n",
    " '「誕生日は1992年11月18日です。」',\n",
    " '「生年月日は1987年4月30日です。」',\n",
    " '「誕生日は2005年12月10日です。」',\n",
    " '「保険証券番号はABC123456です。」',\n",
    " '「保険証番号はXYZ789012です。」',\n",
    " '「保険の契約番号はDEF456789です。」',\n",
    " '「保険証書の番号はLMN654321です。」',\n",
    " '「保険契約書の番号はPQR987654です。」',\n",
    " '「保険ポリシー番号はGHI345678です。」',\n",
    " '「契約のポリシー番号はJKL876543です。」',\n",
    " '「保険の証明書番号はSTU234567です。」',\n",
    " '「契約書の保険番号はNOP543210です。」',\n",
    " '「保険の契約証券番号はQRS765432です。」',\n",
    " '「現在の住所は東京都渋谷区青山1-1-1です。」',\n",
    " '「住所は大阪市中央区難波2-3-4です。」',\n",
    " '「現住所は神奈川県横浜市中区山手町5-6-7です。」',\n",
    " '「住所は北海道札幌市中央区北1条西2-3です。」',\n",
    " '「現在の住所は福岡県福岡市博多区博多駅前1-2-3です。」',\n",
    " '「住所は京都府京都市中京区四条通り1-1です。」',\n",
    " '「現住所は愛知県名古屋市中区栄3-4-5です。」',\n",
    " '「住所は広島県広島市中区本通り6-7です。」',\n",
    " '「現在の住所は沖縄県那覇市おもろまち1-2-3です。」',\n",
    " '「住所は岐阜県岐阜市金町2-3-4です。」']"
   ]
  },
  {
   "cell_type": "code",
   "execution_count": null,
   "id": "12403fb8-6d34-4c75-859c-77079e077f1e",
   "metadata": {},
   "outputs": [],
   "source": []
  },
  {
   "cell_type": "code",
   "execution_count": null,
   "id": "8264f1b0-2c09-42ab-b7ed-d7d0c12b2bac",
   "metadata": {},
   "outputs": [],
   "source": []
  },
  {
   "cell_type": "code",
   "execution_count": 5,
   "id": "dcf5c163-890c-46e5-83cf-e987b42b3c4b",
   "metadata": {},
   "outputs": [],
   "source": [
    "def extractFronJapText(japText): \n",
    "    prompt_and_context = [\n",
    "        #(\"human\", \"{query}.\"),\n",
    "        (\"system\", \"\"\"You are an expert data entry operator in Japanese. Extract PII data such as name , date , birth or policy number , address \n",
    "        from the given sentence. You must only return response in a python dictionary with key valye pair - like name:extractedName,date_of_birth:extracted_date_of_birth. If there is no PII information return null in the key:value format. #### Context:{context}. These are PII information accuracy is very important think step by step\"\"\"),\n",
    "    ]\n",
    "    chat = ChatOpenAI(model=\"gpt-3.5-turbo-0125\", api_key=api_key, temperature=0.1)\n",
    "    chat_template = ChatPromptTemplate.from_messages(prompt_and_context)\n",
    "    message = chat_template.format_messages(context=japText)\n",
    "    ai_resp = chat.invoke(message)\n",
    "    return ai_resp.content"
   ]
  },
  {
   "cell_type": "code",
   "execution_count": 17,
   "id": "8bfc5348-6058-4a76-8c53-c9a6be638ba9",
   "metadata": {},
   "outputs": [],
   "source": [
    "def extractFronJapText(japText): \n",
    "    system_message = \"\"\"You are an expert data entry operator in Japanese. \n",
    "                        Extract PII data such as name, date of birth, policy number, \n",
    "                        and address from the given sentence. You must only return the \n",
    "                        extracted PII in a Python dictionary with key-value pairs - \n",
    "                        like name: extractedName, date_of_birth: extracted_date_of_birth \n",
    "                        else return null. The response must be in Japanese. \n",
    "                        \n",
    "                        #### \n",
    "                        Context: {context}.\n",
    "                        These are PII information accuracy is very important think step by step.\"\"\"\n",
    "    \n",
    "    prompt_and_context = [\n",
    "        (\"system\",system_message),\n",
    "        (\"user\", japText)\n",
    "    ]\n",
    "    chat = ChatOpenAI(model=\"gpt-3.5-turbo-0125\", api_key=api_key, temperature=0.1)\n",
    "    chat_template = ChatPromptTemplate.from_messages(prompt_and_context)\n",
    "    message = chat_template.format_messages(context=japText)\n",
    "    ai_resp = chat.invoke(message)\n",
    "    return ai_resp.content"
   ]
  },
  {
   "cell_type": "code",
   "execution_count": null,
   "id": "d2e4cd15-c264-424f-ad88-fa6d0c6b48f9",
   "metadata": {},
   "outputs": [],
   "source": []
  },
  {
   "cell_type": "code",
   "execution_count": 18,
   "id": "06da14e5-cde8-44bb-a488-c0bbf6efa450",
   "metadata": {},
   "outputs": [],
   "source": [
    "t1 = \"「保険ポリシー番号はGHI345678です。」\""
   ]
  },
  {
   "cell_type": "code",
   "execution_count": 19,
   "id": "87b0eba4-4bd6-4526-a749-4b76cfaa7f04",
   "metadata": {},
   "outputs": [
    {
     "data": {
      "text/plain": [
       "'{\\n    \"policy_number\": \"GHI345678\"\\n}'"
      ]
     },
     "execution_count": 19,
     "metadata": {},
     "output_type": "execute_result"
    }
   ],
   "source": [
    "extractFronJapText(t1)"
   ]
  },
  {
   "cell_type": "code",
   "execution_count": null,
   "id": "05e2f3f1-f8f0-4e27-a646-cc04baf721d1",
   "metadata": {},
   "outputs": [],
   "source": []
  },
  {
   "cell_type": "code",
   "execution_count": null,
   "id": "3b7558c5-1e1b-42dc-9e14-ba04c0562900",
   "metadata": {},
   "outputs": [],
   "source": []
  },
  {
   "cell_type": "code",
   "execution_count": null,
   "id": "c4bfdba6-e8fe-4536-9fcf-dff588e9bd96",
   "metadata": {},
   "outputs": [],
   "source": []
  },
  {
   "cell_type": "code",
   "execution_count": null,
   "id": "fbddb8d9-ed1b-4c27-9389-2ea1fd6a6d18",
   "metadata": {},
   "outputs": [],
   "source": []
  },
  {
   "cell_type": "code",
   "execution_count": 49,
   "id": "c8fbf3e5-8008-46a1-8429-5e2d530b35ea",
   "metadata": {},
   "outputs": [],
   "source": [
    "def extract_PII_Japanese_Text(japText): \n",
    "    prompt_and_context = [\n",
    "        #(\"human\", \"{query}.\"),\n",
    "        (\"system\", \"\"\"You are an expert data entry operator in Japanese. Extract PII data such as name or date or birth or policy number or address \n",
    "        from the given sentence. You must only return response in a python dictionary with key valye pair - like name:extractedName,date_of_birth:extracted_date_of_birth. If there is no PII information return null only retunr key that has a value - dont make mistake. #### Context:{context}. These are PII information accuracy is very important think step by step\"\"\"),\n",
    "    ]\n",
    "    chat = ChatOpenAI(model=\"gpt-3.5-turbo-0125\", api_key=api_key, temperature=0.1)\n",
    "    chat_template = ChatPromptTemplate.from_messages(prompt_and_context)\n",
    "    message = chat_template.format_messages(context=japText)\n",
    "    ai_resp = chat.invoke(message)\n",
    "    return ai_resp.content"
   ]
  },
  {
   "cell_type": "code",
   "execution_count": 47,
   "id": "ef23c5a6-e031-4572-ac55-cfe482fdc80f",
   "metadata": {},
   "outputs": [
    {
     "name": "stdout",
     "output_type": "stream",
     "text": [
      "OriginalText: 「私の名前は田中太郎です。」, extractedText: {\n",
      "    \"name\": \"田中太郎\"\n",
      "}\n",
      "OriginalText: 「名前は山田花子です。」, extractedText: {\n",
      "    \"name\": \"山田花子\"\n",
      "}\n",
      "OriginalText: 「私は鈴木健太です。」, extractedText: {\n",
      "    \"name\": \"鈴木健太\"\n",
      "}\n",
      "OriginalText: 「名前は佐藤みゆきです。」, extractedText: {\n",
      "    \"name\": \"佐藤みゆき\",\n",
      "    \"date_of_birth\": null,\n",
      "    \"policy_number\": null,\n",
      "    \"address\": null\n",
      "}\n",
      "OriginalText: 「私の名前は小林直樹です。」, extractedText: {\n",
      "    \"name\": \"小林直樹\"\n",
      "}\n",
      "OriginalText: 「私は伊藤美香です。」, extractedText: {\n",
      "    \"name\": \"伊藤美香\"\n",
      "}\n",
      "OriginalText: 「名前は高田健太郎です。」, extractedText: {\n",
      "    \"name\": \"高田健太郎\"\n",
      "}\n",
      "OriginalText: 「私の名前は中村かおりです。」, extractedText: {\n",
      "    \"name\": \"中村かおり\"\n",
      "}\n",
      "OriginalText: 「名前は大野隆夫です。」, extractedText: {\n",
      "    \"name\": \"大野隆夫\"\n",
      "}\n",
      "OriginalText: 「私は田辺さちこです。」, extractedText: {\n",
      "    \"name\": \"田辺さちこ\"\n",
      "}\n",
      "OriginalText: 「生年月日は1990年3月15日です。」, extractedText: {\n",
      "    \"date_of_birth\": \"1990年3月15日\"\n",
      "}\n",
      "OriginalText: 「誕生日は1985年10月5日です。」, extractedText: {\n",
      "    \"date_of_birth\": \"1985年10月5日\"\n",
      "}\n",
      "OriginalText: 「生年月日は1978年6月20日です。」, extractedText: {\n",
      "    \"date_of_birth\": \"1978年6月20日\"\n",
      "}\n",
      "OriginalText: 「誕生日は1995年2月8日です。」, extractedText: {\n",
      "    \"date_of_birth\": \"1995年2月8日\"\n",
      "}\n",
      "OriginalText: 「生年月日は1983年9月12日です。」, extractedText: {\n",
      "    \"date_of_birth\": \"1983年9月12日\"\n",
      "}\n",
      "OriginalText: 「誕生日は2000年7月25日です。」, extractedText: {\n",
      "    \"date_of_birth\": \"2000年7月25日\"\n",
      "}\n",
      "OriginalText: 「生年月日は1970年1月1日です。」, extractedText: {\n",
      "    \"date_of_birth\": \"1970年1月1日\"\n",
      "}\n",
      "OriginalText: 「誕生日は1992年11月18日です。」, extractedText: {\n",
      "    \"date_of_birth\": \"1992年11月18日\"\n",
      "}\n",
      "OriginalText: 「生年月日は1987年4月30日です。」, extractedText: {\n",
      "    \"date_of_birth\": \"1987年4月30日\"\n",
      "}\n",
      "OriginalText: 「誕生日は2005年12月10日です。」, extractedText: {\n",
      "    \"date_of_birth\": \"2005年12月10日\"\n",
      "}\n",
      "OriginalText: 「保険証券番号はABC123456です。」, extractedText: {\n",
      "    \"policy_number\": \"ABC123456\"\n",
      "}\n",
      "OriginalText: 「保険証番号はXYZ789012です。」, extractedText: {\n",
      "    \"policy_number\": \"XYZ789012\"\n",
      "}\n",
      "OriginalText: 「保険の契約番号はDEF456789です。」, extractedText: {\n",
      "    \"policy_number\": \"DEF456789\"\n",
      "}\n",
      "OriginalText: 「保険証書の番号はLMN654321です。」, extractedText: {\n",
      "    \"policy_number\": \"LMN654321\"\n",
      "}\n",
      "OriginalText: 「保険契約書の番号はPQR987654です。」, extractedText: {\n",
      "    \"policy_number\": \"PQR987654\"\n",
      "}\n",
      "OriginalText: 「保険ポリシー番号はGHI345678です。」, extractedText: {\n",
      "    \"policy_number\": \"GHI345678\"\n",
      "}\n",
      "OriginalText: 「契約のポリシー番号はJKL876543です。」, extractedText: {\n",
      "    \"policy_number\": \"JKL876543\"\n",
      "}\n",
      "OriginalText: 「保険の証明書番号はSTU234567です。」, extractedText: {\n",
      "    \"policy_number\": \"STU234567\"\n",
      "}\n",
      "OriginalText: 「契約書の保険番号はNOP543210です。」, extractedText: {\n",
      "    \"policy_number\": \"NOP543210\"\n",
      "}\n",
      "OriginalText: 「保険の契約証券番号はQRS765432です。」, extractedText: {\n",
      "    \"policy_number\": \"QRS765432\"\n",
      "}\n",
      "OriginalText: 「現在の住所は東京都渋谷区青山1-1-1です。」, extractedText: {\n",
      "    \"address\": \"東京都渋谷区青山1-1-1\"\n",
      "}\n",
      "OriginalText: 「住所は大阪市中央区難波2-3-4です。」, extractedText: {\n",
      "    \"address\": \"大阪市中央区難波2-3-4\"\n",
      "}\n",
      "OriginalText: 「現住所は神奈川県横浜市中区山手町5-6-7です。」, extractedText: {\n",
      "    \"address\": \"神奈川県横浜市中区山手町5-6-7\"\n",
      "}\n",
      "OriginalText: 「住所は北海道札幌市中央区北1条西2-3です。」, extractedText: {\n",
      "    \"address\": \"北海道札幌市中央区北1条西2-3\"\n",
      "}\n",
      "OriginalText: 「現在の住所は福岡県福岡市博多区博多駅前1-2-3です。」, extractedText: {\n",
      "    \"address\": \"福岡県福岡市博多区博多駅前1-2-3\"\n",
      "}\n",
      "OriginalText: 「住所は京都府京都市中京区四条通り1-1です。」, extractedText: {\n",
      "    \"address\": \"京都府京都市中京区四条通り1-1\"\n",
      "}\n",
      "OriginalText: 「現住所は愛知県名古屋市中区栄3-4-5です。」, extractedText: {\n",
      "    \"address\": \"愛知県名古屋市中区栄3-4-5\"\n",
      "}\n",
      "OriginalText: 「住所は広島県広島市中区本通り6-7です。」, extractedText: {\n",
      "    \"address\": \"広島県広島市中区本通り6-7\"\n",
      "}\n",
      "OriginalText: 「現在の住所は沖縄県那覇市おもろまち1-2-3です。」, extractedText: {\n",
      "    \"address\": \"沖縄県那覇市おもろまち1-2-3\"\n",
      "}\n",
      "OriginalText: 「住所は岐阜県岐阜市金町2-3-4です。」, extractedText: {\n",
      "    \"address\": \"岐阜県岐阜市金町2-3-4\"\n",
      "}\n",
      "CPU times: user 2.2 s, sys: 185 ms, total: 2.39 s\n",
      "Wall time: 37.9 s\n"
     ]
    }
   ],
   "source": [
    "%%time\n",
    "for items in japListOfPII:\n",
    "    extVale = extract_PII_Japanese_Text(items)\n",
    "    print(f\"OriginalText: {items}, extractedText: {extVale}\")"
   ]
  },
  {
   "cell_type": "code",
   "execution_count": null,
   "id": "118f6dee-5526-4b9c-ad07-10186e19fede",
   "metadata": {},
   "outputs": [],
   "source": []
  },
  {
   "cell_type": "code",
   "execution_count": 48,
   "id": "db0dab4d-91b5-4337-948f-f75eb56d28b1",
   "metadata": {},
   "outputs": [
    {
     "ename": "NameError",
     "evalue": "name 'openai_extract_entities' is not defined",
     "output_type": "error",
     "traceback": [
      "\u001b[0;31m---------------------------------------------------------------------------\u001b[0m",
      "\u001b[0;31mNameError\u001b[0m                                 Traceback (most recent call last)",
      "Cell \u001b[0;32mIn[48], line 5\u001b[0m\n\u001b[1;32m      2\u001b[0m text \u001b[38;5;241m=\u001b[39m \u001b[38;5;124m\"\u001b[39m\u001b[38;5;124m東京都にある株式会社サンプルの田中太郎です。\u001b[39m\u001b[38;5;124m\"\u001b[39m\n\u001b[1;32m      4\u001b[0m \u001b[38;5;66;03m# Extract entities using OpenAI\u001b[39;00m\n\u001b[0;32m----> 5\u001b[0m entities \u001b[38;5;241m=\u001b[39m \u001b[43mopenai_extract_entities\u001b[49m(text)\n\u001b[1;32m      6\u001b[0m \u001b[38;5;28mprint\u001b[39m(entities)\n",
      "\u001b[0;31mNameError\u001b[0m: name 'openai_extract_entities' is not defined"
     ]
    }
   ],
   "source": [
    "\n",
    "\n",
    "\n",
    "# Example text\n",
    "text = \"東京都にある株式会社サンプルの田中太郎です。\"\n",
    "\n",
    "# Extract entities using OpenAI\n",
    "entities = openai_extract_entities(text)\n",
    "print(entities)\n",
    "\n"
   ]
  },
  {
   "cell_type": "code",
   "execution_count": 24,
   "id": "a59d736a-5e2d-4888-9f61-497faf73ef74",
   "metadata": {},
   "outputs": [
    {
     "name": "stderr",
     "output_type": "stream",
     "text": [
      "ERROR:root:Exception occurred: An example error occurred\n"
     ]
    }
   ],
   "source": [
    "import logging\n",
    "logging.basicConfig(level=logging.INFO)\n",
    "try:\n",
    "    # Your code that may raise an exception\n",
    "    raise ValueError(\"An example error occurred\")\n",
    "except Exception as e:\n",
    "    # Log the exception\n",
    "    logging.error(f\"Exception occurred: {str(e)}\")"
   ]
  },
  {
   "cell_type": "markdown",
   "id": "f4877c30-3273-4ccc-998b-a0068bd4daa0",
   "metadata": {},
   "source": [
    "### STT"
   ]
  },
  {
   "cell_type": "code",
   "execution_count": 40,
   "id": "ff395be3-336a-437b-af44-9effc6344073",
   "metadata": {},
   "outputs": [],
   "source": [
    "with open(\"audio/test.webm\", \"rb\") as f:\n",
    "    audio_content = f.read()"
   ]
  },
  {
   "cell_type": "code",
   "execution_count": null,
   "id": "faa58a0d-9ba4-49ba-b969-de5dc746d600",
   "metadata": {},
   "outputs": [],
   "source": []
  },
  {
   "cell_type": "code",
   "execution_count": null,
   "id": "4429e9e0-2cf2-4708-ac42-9ae885464829",
   "metadata": {},
   "outputs": [],
   "source": []
  },
  {
   "cell_type": "code",
   "execution_count": null,
   "id": "a3dd6231-a5b2-4adf-a1f9-ace47d230024",
   "metadata": {},
   "outputs": [],
   "source": []
  },
  {
   "cell_type": "code",
   "execution_count": 43,
   "id": "ea1de48f-b9b3-42ea-b185-7df91611b5d7",
   "metadata": {},
   "outputs": [
    {
     "data": {
      "text/plain": [
       "'This is mic testing, mic testing, hello, mic testing, hello, hello, mic testing.\\n'"
      ]
     },
     "execution_count": 43,
     "metadata": {},
     "output_type": "execute_result"
    }
   ],
   "source": [
    "client = OpenAI(api_key=api_key)\n",
    "# Call OpenAI Whisper model\n",
    "transcription = client.audio.transcriptions.create(model=\"whisper-1\",language='en',file = open(\"audio/utterance.webm\", \"rb\"),response_format=\"text\")\n",
    "transcription"
   ]
  },
  {
   "cell_type": "code",
   "execution_count": 42,
   "id": "ab3f452a-226f-4853-a2ad-26f6e1cf93c8",
   "metadata": {},
   "outputs": [
    {
     "data": {
      "text/plain": [
       "'Mic testing, mic testing, yellow mic testing.\\n'"
      ]
     },
     "execution_count": 42,
     "metadata": {},
     "output_type": "execute_result"
    }
   ],
   "source": [
    "transcription"
   ]
  },
  {
   "cell_type": "code",
   "execution_count": null,
   "id": "cd85a0b4-f65f-48d0-a776-e4f88d0985bb",
   "metadata": {},
   "outputs": [],
   "source": []
  }
 ],
 "metadata": {
  "kernelspec": {
   "display_name": "Python 3 (ipykernel)",
   "language": "python",
   "name": "python3"
  },
  "language_info": {
   "codemirror_mode": {
    "name": "ipython",
    "version": 3
   },
   "file_extension": ".py",
   "mimetype": "text/x-python",
   "name": "python",
   "nbconvert_exporter": "python",
   "pygments_lexer": "ipython3",
   "version": "3.11.4"
  }
 },
 "nbformat": 4,
 "nbformat_minor": 5
}
